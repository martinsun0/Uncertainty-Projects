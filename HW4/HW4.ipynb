{
 "cells": [
  {
   "cell_type": "code",
   "execution_count": 242,
   "metadata": {
    "collapsed": true
   },
   "outputs": [],
   "source": [
    "import numpy as np"
   ]
  },
  {
   "cell_type": "markdown",
   "source": [
    "### Q1"
   ],
   "metadata": {
    "collapsed": false,
    "pycharm": {
     "name": "#%% md\n"
    }
   }
  },
  {
   "cell_type": "code",
   "execution_count": 243,
   "outputs": [
    {
     "data": {
      "text/plain": "1.074074074074074"
     },
     "execution_count": 243,
     "metadata": {},
     "output_type": "execute_result"
    }
   ],
   "source": [
    "P = np.array([[1/2, 1/3, 1/6],[0, 1/3, 2/3],[1/2, 0, 1/2]])\n",
    "P3 = np.linalg.matrix_power(P,3)\n",
    "P3[0,1]+2*P3[0,2]"
   ],
   "metadata": {
    "collapsed": false,
    "pycharm": {
     "name": "#%%\n"
    }
   }
  },
  {
   "cell_type": "markdown",
   "source": [
    "### Q2"
   ],
   "metadata": {
    "collapsed": false,
    "pycharm": {
     "name": "#%% md\n"
    }
   }
  },
  {
   "cell_type": "code",
   "execution_count": 244,
   "outputs": [
    {
     "data": {
      "text/plain": "array([[ 1.  ,  0.  , -1.  ,  0.  ,  0.  ,  0.  ],\n       [ 0.  , -0.25,  1.  , -0.25, -0.25,  0.  ],\n       [ 0.  ,  1.  , -1.  ,  0.  ,  0.  ,  0.  ],\n       [ 0.  ,  0.  , -0.5 ,  1.  ,  0.  , -0.5 ],\n       [ 0.  ,  0.  , -0.5 ,  0.  ,  1.  , -0.5 ],\n       [ 0.  ,  0.  ,  0.  , -0.5 , -0.5 ,  1.  ]])"
     },
     "execution_count": 244,
     "metadata": {},
     "output_type": "execute_result"
    }
   ],
   "source": [
    "A = np.array([[1,0,-1,0,0,0],[0,-1/4,1,-1/4,-1/4,0],[0,1,-1,0,0,0],[0,0,-1/2,1,0,-1/2],[0,0,-1/2,0,1,-1/2],[0,0,0,-1/2,-1/2,1]])\n",
    "B = np.array([1,1,1,1,1,1])\n",
    "A"
   ],
   "metadata": {
    "collapsed": false,
    "pycharm": {
     "name": "#%%\n"
    }
   }
  },
  {
   "cell_type": "code",
   "execution_count": 245,
   "outputs": [
    {
     "data": {
      "text/plain": "array([12., 12., 11., 14., 14., 15.])"
     },
     "execution_count": 245,
     "metadata": {},
     "output_type": "execute_result"
    }
   ],
   "source": [
    "np.linalg.solve(A,B)"
   ],
   "metadata": {
    "collapsed": false,
    "pycharm": {
     "name": "#%%\n"
    }
   }
  },
  {
   "cell_type": "markdown",
   "source": [
    "### Q3"
   ],
   "metadata": {
    "collapsed": false,
    "pycharm": {
     "name": "#%% md\n"
    }
   }
  },
  {
   "cell_type": "code",
   "execution_count": 246,
   "outputs": [],
   "source": [
    "import seaborn as sns\n",
    "sns.set_theme()\n",
    "from matplotlib import pyplot as plt"
   ],
   "metadata": {
    "collapsed": false,
    "pycharm": {
     "name": "#%%\n"
    }
   }
  },
  {
   "cell_type": "code",
   "execution_count": 247,
   "outputs": [
    {
     "name": "stdout",
     "output_type": "stream",
     "text": [
      "[[0.   0.6  0.4 ]\n",
      " [0.3  0.   0.7 ]\n",
      " [0.85 0.15 0.  ]]\n",
      "2.863630075240405\n"
     ]
    },
    {
     "name": "stderr",
     "output_type": "stream",
     "text": [
      "c:\\users\\marti\\pycharmprojects\\uncertainty-projects\\venv\\lib\\site-packages\\seaborn\\_decorators.py:36: FutureWarning: Pass the following variables as keyword args: x, y. From version 0.12, the only valid positional argument will be `data`, and passing other arguments without an explicit keyword will result in an error or misinterpretation.\n",
      "  warnings.warn(\n"
     ]
    },
    {
     "data": {
      "text/plain": "<Figure size 1800x720 with 1 Axes>",
      "image/png": "[encoded data removed]"
     },
     "metadata": {},
     "output_type": "display_data"
    }
   ],
   "source": [
    "t = 0\n",
    "states = [1]\n",
    "times = [0]\n",
    "areas = []\n",
    "choices = [1,2,3]\n",
    "intervals = [1/0.1, 1/0.2, 1/0.3]\n",
    "P = np.array([[0,0.6,0.4],[0.3,0,0.7],[0.85,0.15,0]])\n",
    "print(P)\n",
    "t_end = 1000\n",
    "while t < t_end:\n",
    "    interval = np.random.exponential(intervals[int(states[-1]-1)])\n",
    "    areas.append(states[-1]**2*interval)\n",
    "    t = interval + times[-1]\n",
    "    times.append(t-1e-12)\n",
    "    states.append(states[-1])\n",
    "\n",
    "    p = P[int(states[-1]-1),:]\n",
    "    times.append(t)\n",
    "    states.append(np.random.choice(choices, p = p))\n",
    "\n",
    "times[-2:] = []\n",
    "states[-2:] = []\n",
    "times.append(t_end)\n",
    "states.append(states[-1])\n",
    "\n",
    "areas[-1] = (times[-1] - times[-2]) * states[-1]\n",
    "\n",
    "plt.figure(figsize=[25,10])\n",
    "sns.lineplot(x=times,y=states)\n",
    "sns.scatterplot(times,states)\n",
    "\n",
    "print(np.sum(areas)/t_end)"
   ],
   "metadata": {
    "collapsed": false,
    "pycharm": {
     "name": "#%%\n"
    }
   }
  },
  {
   "cell_type": "code",
   "execution_count": 248,
   "outputs": [
    {
     "name": "stdout",
     "output_type": "stream",
     "text": [
      "[-0.86397683 -0.09256667  0.95654349]\n",
      "[[ 0.71798543  0.13120318 -0.68358076]\n",
      " [-0.13060696 -0.93923663 -0.31745295]\n",
      " [-0.68369492  0.317207   -0.65722217]]\n"
     ]
    }
   ],
   "source": [
    "eig_val, eig_vec = np.linalg.eigh(P)\n",
    "\n",
    "print(eig_val)\n",
    "print(eig_vec)"
   ],
   "metadata": {
    "collapsed": false,
    "pycharm": {
     "name": "#%%\n"
    }
   }
  },
  {
   "cell_type": "code",
   "execution_count": 249,
   "outputs": [
    {
     "name": "stdout",
     "output_type": "stream",
     "text": [
      "[[-1.    0.3   0.85]\n",
      " [ 0.6  -1.    0.15]\n",
      " [ 0.4   0.7  -1.  ]\n",
      " [ 1.    1.    1.  ]]\n",
      "0.5973303670745271\n",
      "0.22024471635150167\n",
      "0.18242491657397109\n"
     ]
    },
    {
     "name": "stderr",
     "output_type": "stream",
     "text": [
      "C:\\Users\\marti\\AppData\\Local\\Temp/ipykernel_1336/4217969151.py:5: FutureWarning: `rcond` parameter will change to the default of machine precision times ``max(M, N)`` where M and N are the input matrix dimensions.\n",
      "To use the future default and silence this warning we advise to pass `rcond=None`, to keep using the old, explicitly pass `rcond=-1`.\n",
      "  sds = np.linalg.lstsq(A_2,B_2)[0]\n"
     ]
    }
   ],
   "source": [
    "A_2 = np.array([[-1,0.3,0.85],[0.6,-1,0.15],[0.4,0.7,-1],[1,1,1]])\n",
    "B_2 = np.array([0,0,0,1])\n",
    "print(A_2)\n",
    "\n",
    "sds = np.linalg.lstsq(A_2,B_2)[0]\n",
    "sdf1, sdf2, sdf3 = sds[0]/0.1, sds[1]/0.2, sds[2]/0.3\n",
    "sum_sdf = (sdf1 + sdf2 + sdf3)\n",
    "sd1 = sdf1/sum_sdf\n",
    "sd2 = sdf2/sum_sdf\n",
    "sd3 = sdf3/sum_sdf\n",
    "print(sd1)\n",
    "print(sd2)\n",
    "print(sd3)"
   ],
   "metadata": {
    "collapsed": false,
    "pycharm": {
     "name": "#%%\n"
    }
   }
  },
  {
   "cell_type": "code",
   "execution_count": 250,
   "outputs": [
    {
     "name": "stdout",
     "output_type": "stream",
     "text": [
      "3.1201334816462736\n"
     ]
    }
   ],
   "source": [
    "lrar = sd1 + 4*sd2 + 9*sd3\n",
    "print(lrar)"
   ],
   "metadata": {
    "collapsed": false,
    "pycharm": {
     "name": "#%%\n"
    }
   }
  },
  {
   "cell_type": "code",
   "execution_count": 251,
   "outputs": [],
   "source": [
    "n_trials = 10000\n",
    "rewards = []\n",
    "t_end = 5000\n",
    "for i in range(n_trials):\n",
    "    t = 0\n",
    "    states = [1]\n",
    "    times = [0]\n",
    "    areas = []\n",
    "    while t < t_end:\n",
    "        interval = np.random.exponential(intervals[int(states[-1]-1)])\n",
    "        areas.append(states[-1]**2*interval)\n",
    "        t = interval + times[-1]\n",
    "        times.append(t-1e-12)\n",
    "        states.append(states[-1])\n",
    "\n",
    "        p = P[int(states[-1]-1),:]\n",
    "        times.append(t)\n",
    "        states.append(np.random.choice(choices, p = p))\n",
    "\n",
    "    times[-2:] = []\n",
    "    states[-2:] = []\n",
    "    times.append(t_end)\n",
    "    states.append(states[-1])\n",
    "\n",
    "    # areas[-1] = (times[-1] - times[-2]) * states[-1]\n",
    "    rewards.append(np.sum(areas)/t_end)"
   ],
   "metadata": {
    "collapsed": false,
    "pycharm": {
     "name": "#%%\n"
    }
   }
  },
  {
   "cell_type": "code",
   "execution_count": 252,
   "outputs": [
    {
     "name": "stdout",
     "output_type": "stream",
     "text": [
      "3.1223687877786666\n",
      "0.002235306132392978\n"
     ]
    }
   ],
   "source": [
    "print(np.mean(rewards))\n",
    "print(np.mean(rewards) - lrar)"
   ],
   "metadata": {
    "collapsed": false,
    "pycharm": {
     "name": "#%%\n"
    }
   }
  },
  {
   "cell_type": "code",
   "execution_count": 252,
   "outputs": [],
   "source": [
    "\n",
    "\n",
    "\n",
    "\n",
    "\n",
    "\n",
    "\n",
    "\n",
    "\n",
    "\n",
    "\n",
    "\n",
    "\n",
    "\n",
    "\n",
    "\n",
    "\n",
    "\n",
    "\n",
    "\n",
    "\n",
    "\n",
    "\n",
    "\n",
    "\n",
    "\n",
    "\n",
    "\n",
    "\n",
    "\n",
    "\n",
    "\n",
    "\n",
    "\n",
    "\n",
    "\n"
   ],
   "metadata": {
    "collapsed": false,
    "pycharm": {
     "name": "#%%\n"
    }
   }
  }
 ],
 "metadata": {
  "kernelspec": {
   "display_name": "Python 3",
   "language": "python",
   "name": "python3"
  },
  "language_info": {
   "codemirror_mode": {
    "name": "ipython",
    "version": 2
   },
   "file_extension": ".py",
   "mimetype": "text/x-python",
   "name": "python",
   "nbconvert_exporter": "python",
   "pygments_lexer": "ipython2",
   "version": "2.7.6"
  }
 },
 "nbformat": 4,
 "nbformat_minor": 0
}