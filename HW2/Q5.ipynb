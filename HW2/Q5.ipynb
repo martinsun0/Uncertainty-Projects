{
 "cells": [
  {
   "cell_type": "code",
   "execution_count": 4,
   "metadata": {
    "collapsed": true
   },
   "outputs": [],
   "source": [
    "from numpy.random import poisson\n",
    "from math import log"
   ]
  },
  {
   "cell_type": "code",
   "execution_count": 5,
   "outputs": [],
   "source": [
    "c = 3\n",
    "p = 12\n",
    "trials = 10000"
   ],
   "metadata": {
    "collapsed": false,
    "pycharm": {
     "name": "#%%\n"
    }
   }
  },
  {
   "cell_type": "code",
   "execution_count": 6,
   "outputs": [
    {
     "name": "stdout",
     "output_type": "stream",
     "text": [
      "t=1 profit=5.2464\n",
      "t=2 profit=7.0464\n",
      "t=3 profit=7.5576\n",
      "t=4 profit=7.3044\n",
      "t=5 profit=6.726\n",
      "t=6 profit=5.6688\n",
      "t=7 profit=3.642\n",
      "t=8 profit=2.3424\n",
      "t=9 profit=0.7092\n",
      "t=10 profit=-1.398\n"
     ]
    }
   ],
   "source": [
    "for t in range(1,11):\n",
    "    profit = 0\n",
    "    for trial in range(trials):\n",
    "        D = poisson(log(1+t))\n",
    "        profit += D*p - t*c\n",
    "    print('t='+str(t), 'profit='+str(profit/trials))"
   ],
   "metadata": {
    "collapsed": false,
    "pycharm": {
     "name": "#%%\n"
    }
   }
  }
 ],
 "metadata": {
  "kernelspec": {
   "display_name": "Python 3",
   "language": "python",
   "name": "python3"
  },
  "language_info": {
   "codemirror_mode": {
    "name": "ipython",
    "version": 2
   },
   "file_extension": ".py",
   "mimetype": "text/x-python",
   "name": "python",
   "nbconvert_exporter": "python",
   "pygments_lexer": "ipython2",
   "version": "2.7.6"
  }
 },
 "nbformat": 4,
 "nbformat_minor": 0
}