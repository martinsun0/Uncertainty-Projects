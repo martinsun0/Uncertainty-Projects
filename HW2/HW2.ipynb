{
 "cells": [
  {
   "cell_type": "code",
   "execution_count": 84,
   "outputs": [],
   "source": [
    "import random\n",
    "from statistics import mean"
   ],
   "metadata": {
    "collapsed": false,
    "pycharm": {
     "name": "#%% Q2\n"
    }
   }
  },
  {
   "cell_type": "code",
   "execution_count": 118,
   "outputs": [],
   "source": [
    "def compute(trials, threshold):\n",
    "    N_list = []\n",
    "    for i in range(trials):\n",
    "        N = 0\n",
    "        U = 0\n",
    "        while U < threshold:\n",
    "            U += random.random()\n",
    "            N += 1\n",
    "        N_list.append(N)\n",
    "    return(mean(N_list))"
   ],
   "metadata": {
    "collapsed": false,
    "pycharm": {
     "name": "#%%\n"
    }
   }
  },
  {
   "cell_type": "code",
   "execution_count": 132,
   "outputs": [
    {
     "name": "stdout",
     "output_type": "stream",
     "text": [
      "2.6666666666666665\n",
      "2.6776776776776776\n",
      "2.7138713871387137\n",
      "4.555555555555555\n",
      "4.6906906906906904\n",
      "4.661566156615661\n"
     ]
    }
   ],
   "source": [
    "print(compute(99,1))\n",
    "print(compute(999,1))\n",
    "print(compute(9999,1))\n",
    "print(compute(99,2))\n",
    "print(compute(999,2))\n",
    "print(compute(9999,2))\n"
   ],
   "metadata": {
    "collapsed": false,
    "pycharm": {
     "name": "#%%\n"
    }
   }
  },
  {
   "cell_type": "code",
   "execution_count": null,
   "outputs": [],
   "source": [
    "from numpy.random import poisson\n",
    "from math import log"
   ],
   "metadata": {
    "collapsed": false,
    "pycharm": {
     "name": "#%% Q5\n"
    }
   }
  },
  {
   "cell_type": "code",
   "execution_count": null,
   "outputs": [],
   "source": [
    "c = 3\n",
    "p = 12\n",
    "trials = 10000"
   ],
   "metadata": {
    "collapsed": false,
    "pycharm": {
     "name": "#%%\n"
    }
   }
  },
  {
   "cell_type": "code",
   "execution_count": null,
   "outputs": [],
   "source": [
    "for t in range(1,11):\n",
    "    profit = 0\n",
    "    for trial in range(trials):\n",
    "        D = poisson(log(1+t))\n",
    "        profit += D*p - t*c\n",
    "    print('t='+str(t), 'profit='+str(profit/trials))"
   ],
   "metadata": {
    "collapsed": false,
    "pycharm": {
     "name": "#%%\n"
    }
   }
  }
 ],
 "metadata": {
  "kernelspec": {
   "display_name": "Python 3",
   "language": "python",
   "name": "python3"
  },
  "language_info": {
   "codemirror_mode": {
    "name": "ipython",
    "version": 2
   },
   "file_extension": ".py",
   "mimetype": "text/x-python",
   "name": "python",
   "nbconvert_exporter": "python",
   "pygments_lexer": "ipython2",
   "version": "2.7.6"
  }
 },
 "nbformat": 4,
 "nbformat_minor": 0
}