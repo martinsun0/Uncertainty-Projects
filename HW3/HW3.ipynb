{
 "cells": [
  {
   "cell_type": "code",
   "execution_count": 19,
   "metadata": {
    "collapsed": true
   },
   "outputs": [],
   "source": [
    "import numpy as np\n",
    "import random as rng\n",
    "import seaborn as sns"
   ]
  },
  {
   "cell_type": "code",
   "execution_count": 20,
   "outputs": [],
   "source": [
    "P = np.array([[0.4, 0.38, 0.22],[0.12, 0.7, 0.18], [0.2, 0.5, 0.3]])"
   ],
   "metadata": {
    "collapsed": false,
    "pycharm": {
     "name": "#%% Part A\n"
    }
   }
  },
  {
   "cell_type": "code",
   "execution_count": 26,
   "outputs": [],
   "source": [
    "X = np.linspace(0,99,100)\n",
    "Y = np.zeros(100)\n",
    "choices = [1,2,3]"
   ],
   "metadata": {
    "collapsed": false,
    "pycharm": {
     "name": "#%%\n"
    }
   }
  },
  {
   "cell_type": "code",
   "execution_count": 27,
   "outputs": [],
   "source": [
    "for x in X:\n",
    "    if x == 0:\n",
    "        Y[int(x)] = 1\n",
    "    else:\n",
    "        i = Y[int(x-1)]\n",
    "        p = P[int(i-1),:]\n",
    "        Y[int(x)] = np.random.choice(choices, p = p)"
   ],
   "metadata": {
    "collapsed": false,
    "pycharm": {
     "name": "#%%\n"
    }
   }
  },
  {
   "cell_type": "code",
   "execution_count": 28,
   "outputs": [
    {
     "name": "stderr",
     "output_type": "stream",
     "text": [
      "c:\\users\\marti\\pycharmprojects\\people-data-systems\\venv\\lib\\site-packages\\seaborn\\_decorators.py:36: FutureWarning: Pass the following variables as keyword args: x, y. From version 0.12, the only valid positional argument will be `data`, and passing other arguments without an explicit keyword will result in an error or misinterpretation.\n",
      "  warnings.warn(\n"
     ]
    },
    {
     "data": {
      "text/plain": "<AxesSubplot:>"
     },
     "execution_count": 28,
     "metadata": {},
     "output_type": "execute_result"
    },
    {
     "data": {
      "text/plain": "<Figure size 432x288 with 1 Axes>",
      "image/png": "[encoded data removed]"
     },
     "metadata": {
      "needs_background": "light"
     },
     "output_type": "display_data"
    }
   ],
   "source": [
    "sns.scatterplot(X,Y)"
   ],
   "metadata": {
    "collapsed": false,
    "pycharm": {
     "name": "#%%\n"
    }
   }
  },
  {
   "cell_type": "code",
   "execution_count": null,
   "outputs": [],
   "source": [
    "n = 1000\n",
    "X = np.linspace(0,n-1,n)\n",
    "Y = np.zeros(n)\n",
    "\n",
    "for x in X:\n",
    "    if x == 0:\n",
    "        Y[int(x)] = 1\n",
    "    else:\n",
    "        i = Y[int(x-1)]\n",
    "        p = P[int(i-1),:]\n",
    "        Y[int(x)] = np.random.choice(choices, p = p)"
   ],
   "metadata": {
    "collapsed": false,
    "pycharm": {
     "name": "#%% Part B\n"
    }
   }
  },
  {
   "cell_type": "code",
   "execution_count": 29,
   "outputs": [
    {
     "data": {
      "text/plain": "2.08"
     },
     "execution_count": 29,
     "metadata": {},
     "output_type": "execute_result"
    }
   ],
   "source": [
    "np.mean(Y)"
   ],
   "metadata": {
    "collapsed": false,
    "pycharm": {
     "name": "#%%\n"
    }
   }
  },
  {
   "cell_type": "code",
   "execution_count": 36,
   "outputs": [],
   "source": [
    "n = 1000\n",
    "X = np.linspace(0,n-1,n)\n",
    "Y = np.zeros(n)\n",
    "Z = np.zeros(n)\n",
    "beta = 0.9\n",
    "\n",
    "for x in X:\n",
    "    if x == 0:\n",
    "        Y[int(x)] = 1\n",
    "    else:\n",
    "        i = Y[int(x-1)]\n",
    "        p = P[int(i-1),:]\n",
    "        Y[int(x)] = np.random.choice(choices, p = p)\n",
    "    Z[int(x)] = beta**x * Y[int(x)]**2"
   ],
   "metadata": {
    "collapsed": false,
    "pycharm": {
     "name": "#%%\n"
    }
   }
  },
  {
   "cell_type": "code",
   "execution_count": 39,
   "outputs": [
    {
     "data": {
      "text/plain": "40.222949130228585"
     },
     "execution_count": 39,
     "metadata": {},
     "output_type": "execute_result"
    }
   ],
   "source": [
    "np.sum(Z)"
   ],
   "metadata": {
    "collapsed": false,
    "pycharm": {
     "name": "#%%\n"
    }
   }
  },
  {
   "cell_type": "code",
   "execution_count": 40,
   "outputs": [],
   "source": [
    "n_trials = 1000\n",
    "avg_X = []\n",
    "for trial in range(n_trials):\n",
    "    n = 1000\n",
    "    X = np.linspace(0,n-1,n)\n",
    "    Y = np.zeros(n)\n",
    "    for x in X:\n",
    "        if x == 0:\n",
    "            Y[int(x)] = 1\n",
    "        else:\n",
    "            i = Y[int(x-1)]\n",
    "            p = P[int(i-1),:]\n",
    "            Y[int(x)] = np.random.choice(choices, p = p)\n",
    "    avg_X.append(np.mean(Y))"
   ],
   "metadata": {
    "collapsed": false,
    "pycharm": {
     "name": "#%% Part C\n"
    }
   }
  },
  {
   "cell_type": "code",
   "execution_count": 41,
   "outputs": [
    {
     "data": {
      "text/plain": "2.020361"
     },
     "execution_count": 41,
     "metadata": {},
     "output_type": "execute_result"
    }
   ],
   "source": [
    "np.mean(avg_X)"
   ],
   "metadata": {
    "collapsed": false,
    "pycharm": {
     "name": "#%%\n"
    }
   }
  },
  {
   "cell_type": "code",
   "execution_count": 42,
   "outputs": [],
   "source": [
    "n = 1000\n",
    "X = np.linspace(0,n-1,n)\n",
    "Y = np.zeros(n)\n",
    "Z = np.zeros(n)\n",
    "beta = 0.9\n",
    "avg_Z = []\n",
    "\n",
    "for trial in range(n_trials):\n",
    "    for x in X:\n",
    "        if x == 0:\n",
    "            Y[int(x)] = 1\n",
    "        else:\n",
    "            i = Y[int(x-1)]\n",
    "            p = P[int(i-1),:]\n",
    "            Y[int(x)] = np.random.choice(choices, p = p)\n",
    "        Z[int(x)] = beta**x * Y[int(x)]**2\n",
    "    avg_Z.append(np.sum(Z))"
   ],
   "metadata": {
    "collapsed": false,
    "pycharm": {
     "name": "#%%\n"
    }
   }
  },
  {
   "cell_type": "code",
   "execution_count": 43,
   "outputs": [
    {
     "data": {
      "text/plain": "41.02993151231589"
     },
     "execution_count": 43,
     "metadata": {},
     "output_type": "execute_result"
    }
   ],
   "source": [
    "np.mean(avg_Z)  "
   ],
   "metadata": {
    "collapsed": false,
    "pycharm": {
     "name": "#%%\n"
    }
   }
  }
 ],
 "metadata": {
  "kernelspec": {
   "display_name": "Python 3",
   "language": "python",
   "name": "python3"
  },
  "language_info": {
   "codemirror_mode": {
    "name": "ipython",
    "version": 2
   },
   "file_extension": ".py",
   "mimetype": "text/x-python",
   "name": "python",
   "nbconvert_exporter": "python",
   "pygments_lexer": "ipython2",
   "version": "2.7.6"
  }
 },
 "nbformat": 4,
 "nbformat_minor": 0
}