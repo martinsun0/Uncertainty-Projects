{
 "cells": [
  {
   "cell_type": "code",
   "execution_count": 2,
   "metadata": {
    "collapsed": true
   },
   "outputs": [],
   "source": [
    "from numpy.random import poisson\n",
    "from math import log"
   ]
  },
  {
   "cell_type": "code",
   "execution_count": 3,
   "outputs": [],
   "source": [
    "c = 3\n",
    "p = 12\n",
    "trials = 10000"
   ],
   "metadata": {
    "collapsed": false,
    "pycharm": {
     "name": "#%%\n"
    }
   }
  },
  {
   "cell_type": "code",
   "execution_count": 5,
   "outputs": [
    {
     "name": "stdout",
     "output_type": "stream",
     "text": [
      "t=1 profit=5.1984\n",
      "t=2 profit=7.35\n",
      "t=3 profit=7.8084\n",
      "t=4 profit=7.3872\n",
      "t=5 profit=6.5316\n",
      "t=6 profit=5.3304\n",
      "t=7 profit=3.7584\n",
      "t=8 profit=2.3676\n",
      "t=9 profit=0.5388\n",
      "t=10 profit=-1.2132\n"
     ]
    }
   ],
   "source": [
    "for t in range(1,11):\n",
    "    profit = 0\n",
    "    for trial in range(trials):\n",
    "        D = poisson(log(1+t))\n",
    "        profit += D*p - t*c\n",
    "    print('t='+str(t), 'profit='+str(profit/trials))"
   ],
   "metadata": {
    "collapsed": false,
    "pycharm": {
     "name": "#%%\n"
    }
   }
  }
 ],
 "metadata": {
  "kernelspec": {
   "display_name": "Python 3",
   "language": "python",
   "name": "python3"
  },
  "language_info": {
   "codemirror_mode": {
    "name": "ipython",
    "version": 2
   },
   "file_extension": ".py",
   "mimetype": "text/x-python",
   "name": "python",
   "nbconvert_exporter": "python",
   "pygments_lexer": "ipython2",
   "version": "2.7.6"
  }
 },
 "nbformat": 4,
 "nbformat_minor": 0
}