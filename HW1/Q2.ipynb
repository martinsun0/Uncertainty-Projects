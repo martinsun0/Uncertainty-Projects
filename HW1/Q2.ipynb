{
 "cells": [
  {
   "cell_type": "code",
   "execution_count": null,
   "metadata": {
    "collapsed": true
   },
   "outputs": [],
   "source": [
    "import numpy as np\n",
    "def coins(n,m):\n",
    "\n",
    "    length = len(m)\n",
    "    combination = []\n",
    "\n",
    "    def recurse_coin(remainder, try_coin):\n",
    "        if n % try_coin == 0:\n",
    "            last_coin = try_coin\n",
    "            print(last_coin + 'works')\n",
    "            return last_coin\n",
    "            combination.append(recurse_coin(n - last_coin, m))\n",
    "\n",
    "    return combination"
   ]
  }
 ],
 "metadata": {
  "kernelspec": {
   "display_name": "Python 3",
   "language": "python",
   "name": "python3"
  },
  "language_info": {
   "codemirror_mode": {
    "name": "ipython",
    "version": 2
   },
   "file_extension": ".py",
   "mimetype": "text/x-python",
   "name": "python",
   "nbconvert_exporter": "python",
   "pygments_lexer": "ipython2",
   "version": "2.7.6"
  }
 },
 "nbformat": 4,
 "nbformat_minor": 0
}